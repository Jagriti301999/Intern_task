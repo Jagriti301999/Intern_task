{
  "nbformat": 4,
  "nbformat_minor": 0,
  "metadata": {
    "colab": {
      "name": "Fb Stock prediction",
      "provenance": [],
      "collapsed_sections": [],
      "mount_file_id": "1qV_TXLmwUdixcaj_mmoDIBL4yTNBUwGA",
      "authorship_tag": "ABX9TyMPrCfcelGOxMwGzyNDPKTn",
      "include_colab_link": true
    },
    "kernelspec": {
      "name": "python3",
      "display_name": "Python 3"
    },
    "language_info": {
      "name": "python"
    }
  },
  "cells": [
    {
      "cell_type": "markdown",
      "metadata": {
        "id": "view-in-github",
        "colab_type": "text"
      },
      "source": [
        "<a href=\"https://colab.research.google.com/github/Jagriti301999/Intern_task/blob/main/Fb_Stock_prediction.ipynb\" target=\"_parent\"><img src=\"https://colab.research.google.com/assets/colab-badge.svg\" alt=\"Open In Colab\"/></a>"
      ]
    },
    {
      "cell_type": "code",
      "metadata": {
        "id": "bVkPm-KEq-na"
      },
      "source": [
        ""
      ],
      "execution_count": null,
      "outputs": []
    },
    {
      "cell_type": "code",
      "metadata": {
        "id": "w4m_komUyoOz"
      },
      "source": [
        "import numpy as np\n",
        "import pandas as pd\n",
        "import matplotlib.pyplot as plt\n",
        "import pandas_datareader as web\n",
        "import datetime as dt"
      ],
      "execution_count": null,
      "outputs": []
    },
    {
      "cell_type": "code",
      "metadata": {
        "id": "1ntGVBnTzLpw"
      },
      "source": [
        "from sklearn.preprocessing import MinMaxScaler\n",
        "from tensorflow.keras.models import Sequential\n",
        "from tensorflow.keras.layers import Dense,Dropout,LSTM"
      ],
      "execution_count": null,
      "outputs": []
    },
    {
      "cell_type": "code",
      "metadata": {
        "id": "fGGrT5dczoDl"
      },
      "source": [
        "company='FB' #canbe any company \n",
        "start=dt.datetime(2012,1,1)\n",
        "end=dt.datetime(2021,1,1)"
      ],
      "execution_count": null,
      "outputs": []
    },
    {
      "cell_type": "code",
      "metadata": {
        "id": "vWMUu85sz6F4"
      },
      "source": [
        "data=web.DataReader(company,'yahoo',start,end)"
      ],
      "execution_count": null,
      "outputs": []
    },
    {
      "cell_type": "code",
      "metadata": {
        "id": "JbvkilV9CieR",
        "colab": {
          "base_uri": "https://localhost:8080/",
          "height": 234
        },
        "outputId": "47f6d4df-0d74-442c-bd8c-b266bc547c11"
      },
      "source": [
        "data.head(5)"
      ],
      "execution_count": null,
      "outputs": [
        {
          "output_type": "execute_result",
          "data": {
            "text/html": [
              "<div>\n",
              "<style scoped>\n",
              "    .dataframe tbody tr th:only-of-type {\n",
              "        vertical-align: middle;\n",
              "    }\n",
              "\n",
              "    .dataframe tbody tr th {\n",
              "        vertical-align: top;\n",
              "    }\n",
              "\n",
              "    .dataframe thead th {\n",
              "        text-align: right;\n",
              "    }\n",
              "</style>\n",
              "<table border=\"1\" class=\"dataframe\">\n",
              "  <thead>\n",
              "    <tr style=\"text-align: right;\">\n",
              "      <th></th>\n",
              "      <th>High</th>\n",
              "      <th>Low</th>\n",
              "      <th>Open</th>\n",
              "      <th>Close</th>\n",
              "      <th>Volume</th>\n",
              "      <th>Adj Close</th>\n",
              "    </tr>\n",
              "    <tr>\n",
              "      <th>Date</th>\n",
              "      <th></th>\n",
              "      <th></th>\n",
              "      <th></th>\n",
              "      <th></th>\n",
              "      <th></th>\n",
              "      <th></th>\n",
              "    </tr>\n",
              "  </thead>\n",
              "  <tbody>\n",
              "    <tr>\n",
              "      <th>2012-05-18</th>\n",
              "      <td>45.000000</td>\n",
              "      <td>38.000000</td>\n",
              "      <td>42.049999</td>\n",
              "      <td>38.230000</td>\n",
              "      <td>573576400</td>\n",
              "      <td>38.230000</td>\n",
              "    </tr>\n",
              "    <tr>\n",
              "      <th>2012-05-21</th>\n",
              "      <td>36.660000</td>\n",
              "      <td>33.000000</td>\n",
              "      <td>36.529999</td>\n",
              "      <td>34.029999</td>\n",
              "      <td>168192700</td>\n",
              "      <td>34.029999</td>\n",
              "    </tr>\n",
              "    <tr>\n",
              "      <th>2012-05-22</th>\n",
              "      <td>33.590000</td>\n",
              "      <td>30.940001</td>\n",
              "      <td>32.610001</td>\n",
              "      <td>31.000000</td>\n",
              "      <td>101786600</td>\n",
              "      <td>31.000000</td>\n",
              "    </tr>\n",
              "    <tr>\n",
              "      <th>2012-05-23</th>\n",
              "      <td>32.500000</td>\n",
              "      <td>31.360001</td>\n",
              "      <td>31.370001</td>\n",
              "      <td>32.000000</td>\n",
              "      <td>73600000</td>\n",
              "      <td>32.000000</td>\n",
              "    </tr>\n",
              "    <tr>\n",
              "      <th>2012-05-24</th>\n",
              "      <td>33.209999</td>\n",
              "      <td>31.770000</td>\n",
              "      <td>32.950001</td>\n",
              "      <td>33.029999</td>\n",
              "      <td>50237200</td>\n",
              "      <td>33.029999</td>\n",
              "    </tr>\n",
              "  </tbody>\n",
              "</table>\n",
              "</div>"
            ],
            "text/plain": [
              "                 High        Low       Open      Close     Volume  Adj Close\n",
              "Date                                                                        \n",
              "2012-05-18  45.000000  38.000000  42.049999  38.230000  573576400  38.230000\n",
              "2012-05-21  36.660000  33.000000  36.529999  34.029999  168192700  34.029999\n",
              "2012-05-22  33.590000  30.940001  32.610001  31.000000  101786600  31.000000\n",
              "2012-05-23  32.500000  31.360001  31.370001  32.000000   73600000  32.000000\n",
              "2012-05-24  33.209999  31.770000  32.950001  33.029999   50237200  33.029999"
            ]
          },
          "metadata": {
            "tags": []
          },
          "execution_count": 33
        }
      ]
    },
    {
      "cell_type": "code",
      "metadata": {
        "id": "kFdqHhQdCltw",
        "colab": {
          "base_uri": "https://localhost:8080/",
          "height": 234
        },
        "outputId": "4e4fe8f3-64a8-4ac7-928f-c204952a5e5b"
      },
      "source": [
        "data.tail()"
      ],
      "execution_count": null,
      "outputs": [
        {
          "output_type": "execute_result",
          "data": {
            "text/html": [
              "<div>\n",
              "<style scoped>\n",
              "    .dataframe tbody tr th:only-of-type {\n",
              "        vertical-align: middle;\n",
              "    }\n",
              "\n",
              "    .dataframe tbody tr th {\n",
              "        vertical-align: top;\n",
              "    }\n",
              "\n",
              "    .dataframe thead th {\n",
              "        text-align: right;\n",
              "    }\n",
              "</style>\n",
              "<table border=\"1\" class=\"dataframe\">\n",
              "  <thead>\n",
              "    <tr style=\"text-align: right;\">\n",
              "      <th></th>\n",
              "      <th>High</th>\n",
              "      <th>Low</th>\n",
              "      <th>Open</th>\n",
              "      <th>Close</th>\n",
              "      <th>Volume</th>\n",
              "      <th>Adj Close</th>\n",
              "    </tr>\n",
              "    <tr>\n",
              "      <th>Date</th>\n",
              "      <th></th>\n",
              "      <th></th>\n",
              "      <th></th>\n",
              "      <th></th>\n",
              "      <th></th>\n",
              "      <th></th>\n",
              "    </tr>\n",
              "  </thead>\n",
              "  <tbody>\n",
              "    <tr>\n",
              "      <th>2020-12-24</th>\n",
              "      <td>270.399994</td>\n",
              "      <td>266.200012</td>\n",
              "      <td>268.880005</td>\n",
              "      <td>267.399994</td>\n",
              "      <td>6702000</td>\n",
              "      <td>267.399994</td>\n",
              "    </tr>\n",
              "    <tr>\n",
              "      <th>2020-12-28</th>\n",
              "      <td>277.299988</td>\n",
              "      <td>265.660004</td>\n",
              "      <td>268.739990</td>\n",
              "      <td>277.000000</td>\n",
              "      <td>23299700</td>\n",
              "      <td>277.000000</td>\n",
              "    </tr>\n",
              "    <tr>\n",
              "      <th>2020-12-29</th>\n",
              "      <td>280.510010</td>\n",
              "      <td>276.279999</td>\n",
              "      <td>276.950012</td>\n",
              "      <td>276.779999</td>\n",
              "      <td>16383000</td>\n",
              "      <td>276.779999</td>\n",
              "    </tr>\n",
              "    <tr>\n",
              "      <th>2020-12-30</th>\n",
              "      <td>278.079987</td>\n",
              "      <td>271.709991</td>\n",
              "      <td>277.950012</td>\n",
              "      <td>271.869995</td>\n",
              "      <td>11803800</td>\n",
              "      <td>271.869995</td>\n",
              "    </tr>\n",
              "    <tr>\n",
              "      <th>2020-12-31</th>\n",
              "      <td>277.089996</td>\n",
              "      <td>269.809998</td>\n",
              "      <td>272.000000</td>\n",
              "      <td>273.160004</td>\n",
              "      <td>12900400</td>\n",
              "      <td>273.160004</td>\n",
              "    </tr>\n",
              "  </tbody>\n",
              "</table>\n",
              "</div>"
            ],
            "text/plain": [
              "                  High         Low  ...    Volume   Adj Close\n",
              "Date                                ...                      \n",
              "2020-12-24  270.399994  266.200012  ...   6702000  267.399994\n",
              "2020-12-28  277.299988  265.660004  ...  23299700  277.000000\n",
              "2020-12-29  280.510010  276.279999  ...  16383000  276.779999\n",
              "2020-12-30  278.079987  271.709991  ...  11803800  271.869995\n",
              "2020-12-31  277.089996  269.809998  ...  12900400  273.160004\n",
              "\n",
              "[5 rows x 6 columns]"
            ]
          },
          "metadata": {
            "tags": []
          },
          "execution_count": 34
        }
      ]
    },
    {
      "cell_type": "code",
      "metadata": {
        "colab": {
          "base_uri": "https://localhost:8080/"
        },
        "id": "Lc2r4nlDCbF1",
        "outputId": "e032bd4e-0b9e-424b-cd02-360ebee08f9d"
      },
      "source": [
        "data.info()"
      ],
      "execution_count": null,
      "outputs": [
        {
          "output_type": "stream",
          "text": [
            "<class 'pandas.core.frame.DataFrame'>\n",
            "DatetimeIndex: 2170 entries, 2012-05-18 to 2020-12-31\n",
            "Data columns (total 6 columns):\n",
            " #   Column     Non-Null Count  Dtype  \n",
            "---  ------     --------------  -----  \n",
            " 0   High       2170 non-null   float64\n",
            " 1   Low        2170 non-null   float64\n",
            " 2   Open       2170 non-null   float64\n",
            " 3   Close      2170 non-null   float64\n",
            " 4   Volume     2170 non-null   int64  \n",
            " 5   Adj Close  2170 non-null   float64\n",
            "dtypes: float64(5), int64(1)\n",
            "memory usage: 118.7 KB\n"
          ],
          "name": "stdout"
        }
      ]
    },
    {
      "cell_type": "code",
      "metadata": {
        "colab": {
          "base_uri": "https://localhost:8080/",
          "height": 295
        },
        "id": "zHEUxgGNCeBX",
        "outputId": "64db30c7-2ff1-4725-a23f-bef39b6f74e3"
      },
      "source": [
        "data.describe()"
      ],
      "execution_count": null,
      "outputs": [
        {
          "output_type": "execute_result",
          "data": {
            "text/html": [
              "<div>\n",
              "<style scoped>\n",
              "    .dataframe tbody tr th:only-of-type {\n",
              "        vertical-align: middle;\n",
              "    }\n",
              "\n",
              "    .dataframe tbody tr th {\n",
              "        vertical-align: top;\n",
              "    }\n",
              "\n",
              "    .dataframe thead th {\n",
              "        text-align: right;\n",
              "    }\n",
              "</style>\n",
              "<table border=\"1\" class=\"dataframe\">\n",
              "  <thead>\n",
              "    <tr style=\"text-align: right;\">\n",
              "      <th></th>\n",
              "      <th>High</th>\n",
              "      <th>Low</th>\n",
              "      <th>Open</th>\n",
              "      <th>Close</th>\n",
              "      <th>Volume</th>\n",
              "      <th>Adj Close</th>\n",
              "    </tr>\n",
              "  </thead>\n",
              "  <tbody>\n",
              "    <tr>\n",
              "      <th>count</th>\n",
              "      <td>2170.000000</td>\n",
              "      <td>2170.000000</td>\n",
              "      <td>2170.000000</td>\n",
              "      <td>2170.000000</td>\n",
              "      <td>2.170000e+03</td>\n",
              "      <td>2170.000000</td>\n",
              "    </tr>\n",
              "    <tr>\n",
              "      <th>mean</th>\n",
              "      <td>125.563945</td>\n",
              "      <td>122.630866</td>\n",
              "      <td>124.121313</td>\n",
              "      <td>124.157318</td>\n",
              "      <td>3.213096e+07</td>\n",
              "      <td>124.157318</td>\n",
              "    </tr>\n",
              "    <tr>\n",
              "      <th>std</th>\n",
              "      <td>68.878920</td>\n",
              "      <td>67.270939</td>\n",
              "      <td>68.074474</td>\n",
              "      <td>68.124602</td>\n",
              "      <td>2.858937e+07</td>\n",
              "      <td>68.124602</td>\n",
              "    </tr>\n",
              "    <tr>\n",
              "      <th>min</th>\n",
              "      <td>18.270000</td>\n",
              "      <td>17.549999</td>\n",
              "      <td>18.080000</td>\n",
              "      <td>17.730000</td>\n",
              "      <td>5.913100e+06</td>\n",
              "      <td>17.730000</td>\n",
              "    </tr>\n",
              "    <tr>\n",
              "      <th>25%</th>\n",
              "      <td>71.552502</td>\n",
              "      <td>69.612501</td>\n",
              "      <td>70.830000</td>\n",
              "      <td>70.849997</td>\n",
              "      <td>1.619055e+07</td>\n",
              "      <td>70.849997</td>\n",
              "    </tr>\n",
              "    <tr>\n",
              "      <th>50%</th>\n",
              "      <td>122.009998</td>\n",
              "      <td>119.750000</td>\n",
              "      <td>120.995003</td>\n",
              "      <td>120.820000</td>\n",
              "      <td>2.327860e+07</td>\n",
              "      <td>120.820000</td>\n",
              "    </tr>\n",
              "    <tr>\n",
              "      <th>75%</th>\n",
              "      <td>179.022495</td>\n",
              "      <td>175.779995</td>\n",
              "      <td>177.477501</td>\n",
              "      <td>177.470001</td>\n",
              "      <td>3.773498e+07</td>\n",
              "      <td>177.470001</td>\n",
              "    </tr>\n",
              "    <tr>\n",
              "      <th>max</th>\n",
              "      <td>304.670013</td>\n",
              "      <td>293.049988</td>\n",
              "      <td>300.160004</td>\n",
              "      <td>303.910004</td>\n",
              "      <td>5.735764e+08</td>\n",
              "      <td>303.910004</td>\n",
              "    </tr>\n",
              "  </tbody>\n",
              "</table>\n",
              "</div>"
            ],
            "text/plain": [
              "              High          Low  ...        Volume    Adj Close\n",
              "count  2170.000000  2170.000000  ...  2.170000e+03  2170.000000\n",
              "mean    125.563945   122.630866  ...  3.213096e+07   124.157318\n",
              "std      68.878920    67.270939  ...  2.858937e+07    68.124602\n",
              "min      18.270000    17.549999  ...  5.913100e+06    17.730000\n",
              "25%      71.552502    69.612501  ...  1.619055e+07    70.849997\n",
              "50%     122.009998   119.750000  ...  2.327860e+07   120.820000\n",
              "75%     179.022495   175.779995  ...  3.773498e+07   177.470001\n",
              "max     304.670013   293.049988  ...  5.735764e+08   303.910004\n",
              "\n",
              "[8 rows x 6 columns]"
            ]
          },
          "metadata": {
            "tags": []
          },
          "execution_count": 32
        }
      ]
    },
    {
      "cell_type": "code",
      "metadata": {
        "id": "DddIXFHt0CTg"
      },
      "source": [
        "#prepare data\n",
        "scaler=MinMaxScaler(feature_range=(0,1))\n",
        "scaled_data=scaler.fit_transform(data['Close'].values.reshape(-1,1))\n",
        "\n",
        "prediction_days=60"
      ],
      "execution_count": null,
      "outputs": []
    },
    {
      "cell_type": "code",
      "metadata": {
        "id": "gGg2WHGn0zIh"
      },
      "source": [
        "x_train=[]\n",
        "y_train=[]"
      ],
      "execution_count": null,
      "outputs": []
    },
    {
      "cell_type": "code",
      "metadata": {
        "id": "erlXnrpd03uO"
      },
      "source": [
        "for x in range(prediction_days,len(scaled_data)):\n",
        "  x_train.append(scaled_data[x-prediction_days:x,0])\n",
        "  y_train.append(scaled_data[x,0])"
      ],
      "execution_count": null,
      "outputs": []
    },
    {
      "cell_type": "code",
      "metadata": {
        "id": "GJXb1EAh1WRl"
      },
      "source": [
        "x_train,y_train=np.array(x_train),np.array(y_train)\n",
        "x_train=np.reshape(x_train,(x_train.shape[0],x_train.shape[1],1))"
      ],
      "execution_count": null,
      "outputs": []
    },
    {
      "cell_type": "code",
      "metadata": {
        "colab": {
          "base_uri": "https://localhost:8080/"
        },
        "id": "Z2RJd6GB1wU4",
        "outputId": "621f32a2-72ba-4d73-9a5c-dc6c10f624c4"
      },
      "source": [
        "model=Sequential()\n",
        "model.add(LSTM(units=50,return_sequences=True,input_shape=(x_train.shape[1],1)))\n",
        "model.add(Dropout(0.2))\n",
        "model.add(LSTM(units=50,return_sequences=True))\n",
        "model.add(Dropout(0.2))\n",
        "model.add(LSTM(units=50))\n",
        "model.add(Dropout(0.2))\n",
        "model.add(Dense(units=1)) #prediction of next closing\n",
        "\n",
        "model.compile(optimizer='adam',loss='mean_squared_error')\n",
        "model.fit(x_train,y_train,epochs=25,batch_size=32)"
      ],
      "execution_count": null,
      "outputs": [
        {
          "output_type": "stream",
          "text": [
            "66/66 [==============================] - 6s 86ms/step - loss: 0.0016\n",
            "Epoch 21/25\n",
            "66/66 [==============================] - 6s 85ms/step - loss: 0.0015\n",
            "Epoch 22/25\n",
            "66/66 [==============================] - 6s 86ms/step - loss: 0.0014\n",
            "Epoch 23/25\n",
            "66/66 [==============================] - 6s 84ms/step - loss: 0.0013\n",
            "Epoch 24/25\n",
            "66/66 [==============================] - 6s 84ms/step - loss: 0.0012\n",
            "Epoch 25/25\n",
            "66/66 [==============================] - 6s 86ms/step - loss: 0.0013\n"
          ],
          "name": "stdout"
        },
        {
          "output_type": "execute_result",
          "data": {
            "text/plain": [
              "<tensorflow.python.keras.callbacks.History at 0x7fe064648650>"
            ]
          },
          "metadata": {
            "tags": []
          },
          "execution_count": 15
        }
      ]
    },
    {
      "cell_type": "code",
      "metadata": {
        "id": "YPW8XTeN3Znr"
      },
      "source": [
        "#=====Test The Model Accuracy on existing Data===\n",
        "\n",
        "#load test Data\n",
        "test_start=dt.datetime(2021,1,1)\n",
        "test_end=dt.datetime.now()\n",
        "\n",
        "test_data=web.DataReader(company,'yahoo',test_start,test_end)\n",
        "actual_prices=test_data['Close'].values\n",
        "\n",
        "total_dataset=pd.concat((data['Close'],test_data['Close']),axis=0)\n",
        "\n",
        "model_inputs=total_dataset[len(total_dataset)-len(test_data)-prediction_days:].values\n",
        "model_inputs=model_inputs.reshape(-1,1)\n",
        "model_inputs=scaler.transform(model_inputs)"
      ],
      "execution_count": null,
      "outputs": []
    },
    {
      "cell_type": "code",
      "metadata": {
        "id": "984ZmtLb5DTt"
      },
      "source": [
        "#Make Prediction On Test Data\n",
        "x_test=[]\n",
        "for x in range(prediction_days,len(model_inputs)+1):\n",
        "  x_test.append(model_inputs[x-prediction_days:x,0])\n",
        "\n",
        "x_test=np.array(x_test)\n",
        "x_test=np.reshape(x_test,(x_test.shape[0],x_test.shape[1],1))\n",
        "\n",
        "predicted_prices=model.predict(x_test)\n",
        "predicted_prices=scaler.inverse_transform(predicted_prices)\n"
      ],
      "execution_count": null,
      "outputs": []
    },
    {
      "cell_type": "code",
      "metadata": {
        "colab": {
          "base_uri": "https://localhost:8080/",
          "height": 295
        },
        "id": "h9zhAAAG5164",
        "outputId": "dc6797f5-476c-446a-8670-018703e47c1c"
      },
      "source": [
        "#plot the test prediction\n",
        "plt.plot(actual_prices,color='black',label=f'Actual {company} Price')\n",
        "plt.plot(predicted_prices,color='green',label=f'Predicted {company} Price')\n",
        "plt.title(f'{company} Share Price')\n",
        "plt.xlabel('Time')\n",
        "plt.ylabel(f'{company}')\n",
        "plt.legend()\n",
        "plt.show()\n"
      ],
      "execution_count": null,
      "outputs": [
        {
          "output_type": "display_data",
          "data": {
            "image/png": "[encoded data removed]",
            "text/plain": [
              "<Figure size 432x288 with 1 Axes>"
            ]
          },
          "metadata": {
            "tags": [],
            "needs_background": "light"
          }
        }
      ]
    },
    {
      "cell_type": "code",
      "metadata": {
        "colab": {
          "base_uri": "https://localhost:8080/"
        },
        "id": "tCdeAfqP7UmJ",
        "outputId": "29e97ce4-3352-4240-d947-07d29c4cea6c"
      },
      "source": [
        "#predict next day\n",
        "\n",
        "real_data=[model_inputs[len(model_inputs)+1 - prediction_days:len(model_inputs+1),0]]\n",
        "real_data=np.array(real_data)\n",
        "real_data=np.reshape(real_data,(real_data.shape[0],real_data.shape[1],1))\n",
        "\n",
        "prediction=model.predict(real_data)\n",
        "prediction=scaler.inverse_transform(prediction)\n",
        "#print('\\n\\n')\n",
        "print(f'Tomorrow Prediction:{prediction}')"
      ],
      "execution_count": null,
      "outputs": [
        {
          "output_type": "stream",
          "text": [
            "Tomorrow Prediction:[[334.7734]]\n"
          ],
          "name": "stdout"
        }
      ]
    },
    {
      "cell_type": "markdown",
      "metadata": {
        "id": "XQNGRfTnEqZ0"
      },
      "source": [
        "# New section"
      ]
    },
    {
      "cell_type": "code",
      "metadata": {
        "id": "jxbsDpICFLU1"
      },
      "source": [
        ""
      ],
      "execution_count": null,
      "outputs": []
    }
  ]
}